{
  "nbformat": 4,
  "nbformat_minor": 0,
  "metadata": {
    "colab": {
      "name": "1M180316_ItsumiNagakura_TakeHomeExam.ipynb",
      "private_outputs": true,
      "provenance": [],
      "collapsed_sections": [],
      "include_colab_link": true
    },
    "kernelspec": {
      "name": "python3",
      "display_name": "Python 3"
    },
    "language_info": {
      "name": "python"
    }
  },
  "cells": [
    {
      "cell_type": "markdown",
      "metadata": {
        "id": "view-in-github",
        "colab_type": "text"
      },
      "source": [
        "<a href=\"https://colab.research.google.com/github/itsumiii/itsumiii/blob/main/1M180316_ItsumiNagakura_TakeHomeExam.ipynb\" target=\"_parent\"><img src=\"https://colab.research.google.com/assets/colab-badge.svg\" alt=\"Open In Colab\"/></a>"
      ]
    },
    {
      "cell_type": "markdown",
      "metadata": {
        "id": "JdH_uY2BBCj_"
      },
      "source": [
        "#Data and Social Media Analysis\n",
        "## Unofficial midterm aka. take home exam for the pandas part of this course\n",
        "\n",
        "Feel free to use any means available to you such as class notebooks, lecture vidoes, Google, StackOverFlow, online tutorials etc. The only thing I ask is that you do this yourself. This means not asking your programmer friend for help or posting a question from the exam on stackoverflow or similar.\n",
        "Good luck!!!\n",
        "\n",
        "1. Read in the ramen ratings file as a dataframe\n",
        "2. set appropriate index and column names and print out an overview of the dataframe\n",
        "3. Print a subset of the dataframe that only has the information of the brand of ramen and its score (hint: not groupby, or creation of new dataframe. How can we access specific rows or columns of data?)\n",
        "5. Oh no, it seems the last column is full of null values. Convert these to NaN.\n",
        "4. Display only the rows where the brand is Nissin and the rating is above 3.5 (some data type conversion might be necessary)\n",
        "\n",
        "6. Group the ramen by brand and calculate the mean, max, and min values in a single output.\n",
        "\n",
        "7. What is the mode rating for all ramen?\n",
        "8. Groupby brand and variety. Can you figure out a way to display this information in descending order (highest to lowest)? Which has the highest average?\n",
        "8. How many different brands of ramen are included in the dataset?"
      ]
    },
    {
      "cell_type": "code",
      "metadata": {
        "id": "qZ-MDwJbSLv0"
      },
      "source": [
        "from google.colab import drive\n",
        "drive.mount('/content/gdrive')"
      ],
      "execution_count": null,
      "outputs": []
    },
    {
      "cell_type": "markdown",
      "metadata": {
        "id": "qMSrDSZkieAY"
      },
      "source": [
        "##1\n",
        "Read in the ramen ratings file as a dataframe"
      ]
    },
    {
      "cell_type": "code",
      "metadata": {
        "id": "1C29IiOiejhY"
      },
      "source": [
        "#1\n",
        "import pandas as pd\n",
        "import numpy as np \n",
        "\n",
        "q1 = pd.read_csv(\"/content/gdrive/MyDrive/python files/ramen-ratings.csv\")\n",
        "q1"
      ],
      "execution_count": null,
      "outputs": []
    },
    {
      "cell_type": "markdown",
      "metadata": {
        "id": "09KjABYPiiUP"
      },
      "source": [
        "##2\n",
        "\n",
        "set appropriate index and column names and print out an overview of the dataframe\n"
      ]
    },
    {
      "cell_type": "code",
      "metadata": {
        "id": "RaZ6cpjGjbv_"
      },
      "source": [
        "q1.columns"
      ],
      "execution_count": null,
      "outputs": []
    },
    {
      "cell_type": "code",
      "metadata": {
        "id": "CK7IeY5ifFBl"
      },
      "source": [
        "q2 = q1.rename(columns={\"Review #\": \"Review Num\",\"Variety\":\"Flavour\",\"Top Ten\":\"Top 10\"}).set_index('Review Num').sort_values(by = 'Review Num')\n",
        "q2\n",
        "#also sorted by index to make it look more neat"
      ],
      "execution_count": null,
      "outputs": []
    },
    {
      "cell_type": "code",
      "metadata": {
        "id": "faMPRPzMsNCd"
      },
      "source": [
        "q2.info() #i didnt exactly understand what overview meant so i used every code i thought could apply"
      ],
      "execution_count": null,
      "outputs": []
    },
    {
      "cell_type": "code",
      "metadata": {
        "id": "ePdbVRfTrTnM"
      },
      "source": [
        "print(q2)"
      ],
      "execution_count": null,
      "outputs": []
    },
    {
      "cell_type": "code",
      "metadata": {
        "id": "hzUPEC9cJRQ8"
      },
      "source": [
        "q2.shape"
      ],
      "execution_count": null,
      "outputs": []
    },
    {
      "cell_type": "markdown",
      "metadata": {
        "id": "wsO_KH78intS"
      },
      "source": [
        "##3\n",
        "\n",
        "Print a subset of the dataframe that only has the information of the brand of ramen and its score (hint: not groupby, or creation of new dataframe. How can we access specific rows or columns of data?)"
      ]
    },
    {
      "cell_type": "code",
      "metadata": {
        "id": "V-hr6ipdsd5R"
      },
      "source": [
        "q3 = q2.loc[: , ['Brand','Stars']]\n",
        "q3"
      ],
      "execution_count": null,
      "outputs": []
    },
    {
      "cell_type": "markdown",
      "metadata": {
        "id": "XvboLaT2iqGw"
      },
      "source": [
        "##4\n",
        "\n",
        "Oh no, it seems the last column is full of null values. Convert these to NaN.\n",
        "\n"
      ]
    },
    {
      "cell_type": "code",
      "metadata": {
        "id": "XQoS18rqxOEY"
      },
      "source": [
        "q2['Top 10'].fillna(\"NaN\", inplace = True)"
      ],
      "execution_count": null,
      "outputs": []
    },
    {
      "cell_type": "code",
      "metadata": {
        "id": "5ftUSmPfxqBf"
      },
      "source": [
        "q2['Top 10'].fillna(\"Out of Ranking\", inplace = True)\n",
        "#I thought this would be more easier to understand"
      ],
      "execution_count": null,
      "outputs": []
    },
    {
      "cell_type": "code",
      "metadata": {
        "id": "OsCIQW51KcUY"
      },
      "source": [
        "q2.head()"
      ],
      "execution_count": null,
      "outputs": []
    },
    {
      "cell_type": "markdown",
      "metadata": {
        "id": "6ejrlhnGisRy"
      },
      "source": [
        "##5\n",
        "\n",
        "Display only the rows where the brand is Nissin and the rating is above 3.5 (some data type conversion might be necessary)"
      ]
    },
    {
      "cell_type": "code",
      "metadata": {
        "id": "bRHa3xODg5ui"
      },
      "source": [
        "q2.Stars.unique()\n",
        "#Unrated is preventing the conversion from string to float bc its a string in a list of numeric values"
      ],
      "execution_count": null,
      "outputs": []
    },
    {
      "cell_type": "code",
      "metadata": {
        "id": "DyuZvW1_f35w"
      },
      "source": [
        "q2['Stars'] = q2['Stars'].replace(['Unrated'],None)\n",
        "q2.Stars.unique()"
      ],
      "execution_count": null,
      "outputs": []
    },
    {
      "cell_type": "code",
      "metadata": {
        "id": "XJfXEk6rkY3T"
      },
      "source": [
        "q2['Stars']=q2['Stars'].astype(float)"
      ],
      "execution_count": null,
      "outputs": []
    },
    {
      "cell_type": "code",
      "metadata": {
        "id": "MRDvq2ymlnHq"
      },
      "source": [
        "q2.Stars.unique()\n",
        "#now all the values in this series is a float so i can use >= to search"
      ],
      "execution_count": null,
      "outputs": []
    },
    {
      "cell_type": "code",
      "metadata": {
        "id": "rwgdWknOkoP0"
      },
      "source": [
        "q5 = q2.loc[(q2.Brand == 'Nissin') & (q2.Stars >= 3.5)]\n",
        "q5"
      ],
      "execution_count": null,
      "outputs": []
    },
    {
      "cell_type": "markdown",
      "metadata": {
        "id": "XhTSExADixqz"
      },
      "source": [
        "##6\n",
        "\n",
        "Group the ramen by brand and calculate the mean, max, and min values in a single output.\n",
        "\n"
      ]
    },
    {
      "cell_type": "code",
      "metadata": {
        "id": "-kwKNpac45nc"
      },
      "source": [
        "q2.groupby('Brand').Stars.agg([np.mean,max,min])"
      ],
      "execution_count": null,
      "outputs": []
    },
    {
      "cell_type": "markdown",
      "metadata": {
        "id": "83J3XZadi2Ew"
      },
      "source": [
        "##7\n",
        "\n",
        "What is the mode rating for all ramen?"
      ]
    },
    {
      "cell_type": "code",
      "metadata": {
        "id": "P0IOixTqi0Gw"
      },
      "source": [
        "q2.Stars.mode()\n",
        "#4.0 is the mode rating for all ramen"
      ],
      "execution_count": null,
      "outputs": []
    },
    {
      "cell_type": "markdown",
      "metadata": {
        "id": "J3S8PMF-i5FJ"
      },
      "source": [
        "##8\n",
        "\n",
        "Groupby brand and variety. Can you figure out a way to display this information in descending order (highest to lowest)? Which has the highest average?"
      ]
    },
    {
      "cell_type": "code",
      "metadata": {
        "id": "eOBlbBWJlKKg"
      },
      "source": [
        "#i renamed variety to style\n",
        "q2['Style']=q2['Style'].astype('category').cat.codes"
      ],
      "execution_count": null,
      "outputs": []
    },
    {
      "cell_type": "code",
      "metadata": {
        "id": "du0WhsU4Ye_j"
      },
      "source": [
        "q8 = q2.groupby('Brand').Style.mean().sort_values(ascending = False)\n",
        "q8"
      ],
      "execution_count": null,
      "outputs": []
    },
    {
      "cell_type": "code",
      "metadata": {
        "id": "_UZeA-zuDRB4"
      },
      "source": [
        "q8.head(15)\n",
        "#brands with a 6.0 average have the highest mean"
      ],
      "execution_count": null,
      "outputs": []
    },
    {
      "cell_type": "markdown",
      "metadata": {
        "id": "kmOXsSd9jLVZ"
      },
      "source": [
        "##9\n",
        "\n",
        "How many different brands of ramen are included in the dataset?"
      ]
    },
    {
      "cell_type": "code",
      "metadata": {
        "id": "zRx73F8UYgce"
      },
      "source": [
        "q9 = q2.Brand.nunique()\n",
        "q9"
      ],
      "execution_count": null,
      "outputs": []
    }
  ]
}